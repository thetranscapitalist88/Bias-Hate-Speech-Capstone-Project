{
 "cells": [
  {
   "cell_type": "code",
   "execution_count": 11,
   "metadata": {},
   "outputs": [],
   "source": [
    "import pandas as pd\n",
    "import numpy as np\n",
    "import matplotlib.pyplot as plt\n",
    "import seaborn as sns\n",
    "\n",
    "from sklearn.model_selection import train_test_split, GridSearchCV, RandomizedSearchCV\n",
    "from sklearn.linear_model import LinearRegression, Ridge, Lasso, ElasticNet, LogisticRegression \n",
    "from sklearn.impute import SimpleImputer\n",
    "from sklearn.neighbors import KNeighborsClassifier\n",
    "from sklearn.compose import make_column_transformer\n",
    "from sklearn.pipeline import Pipeline, make_pipeline\n",
    "from sklearn.preprocessing import OneHotEncoder, StandardScaler, PolynomialFeatures\n",
    "from sklearn.feature_selection import RFE\n",
    "from sklearn.metrics import mean_squared_error, mean_absolute_error, r2_score, balanced_accuracy_score, ConfusionMatrixDisplay, RocCurveDisplay, classification_report, precision_score, f1_score, precision_recall_fscore_support\n",
    "from sklearn.feature_extraction.text import CountVectorizer, TfidfVectorizer\n",
    "from sklearn.naive_bayes import MultinomialNB\n",
    "from sklearn.dummy import DummyClassifier\n",
    "from sklearn.ensemble import BaggingClassifier, VotingClassifier, VotingRegressor\n",
    "from sklearn.tree import DecisionTreeRegressor, DecisionTreeClassifier"
   ]
  },
  {
   "cell_type": "code",
   "execution_count": null,
   "metadata": {},
   "outputs": [],
   "source": [
    "#%pip install scattertext"
   ]
  },
  {
   "cell_type": "code",
   "execution_count": 12,
   "metadata": {},
   "outputs": [
    {
     "data": {
      "text/html": [
       "<div>\n",
       "<style scoped>\n",
       "    .dataframe tbody tr th:only-of-type {\n",
       "        vertical-align: middle;\n",
       "    }\n",
       "\n",
       "    .dataframe tbody tr th {\n",
       "        vertical-align: top;\n",
       "    }\n",
       "\n",
       "    .dataframe thead th {\n",
       "        text-align: right;\n",
       "    }\n",
       "</style>\n",
       "<table border=\"1\" class=\"dataframe\">\n",
       "  <thead>\n",
       "    <tr style=\"text-align: right;\">\n",
       "      <th></th>\n",
       "      <th>count</th>\n",
       "      <th>hate_speech</th>\n",
       "      <th>offensive_language</th>\n",
       "      <th>neither</th>\n",
       "      <th>class</th>\n",
       "      <th>tweet</th>\n",
       "    </tr>\n",
       "  </thead>\n",
       "  <tbody>\n",
       "    <tr>\n",
       "      <th>0</th>\n",
       "      <td>3</td>\n",
       "      <td>0</td>\n",
       "      <td>0</td>\n",
       "      <td>3</td>\n",
       "      <td>2</td>\n",
       "      <td>RT mayasolovely As a woman you shouldn't comp...</td>\n",
       "    </tr>\n",
       "    <tr>\n",
       "      <th>1</th>\n",
       "      <td>3</td>\n",
       "      <td>0</td>\n",
       "      <td>3</td>\n",
       "      <td>0</td>\n",
       "      <td>1</td>\n",
       "      <td>RT mleew17 boy dats cold...tyga dwn bad for c...</td>\n",
       "    </tr>\n",
       "  </tbody>\n",
       "</table>\n",
       "</div>"
      ],
      "text/plain": [
       "   count  hate_speech  offensive_language  neither  class  \\\n",
       "0      3            0                   0        3      2   \n",
       "1      3            0                   3        0      1   \n",
       "\n",
       "                                               tweet  \n",
       "0   RT mayasolovely As a woman you shouldn't comp...  \n",
       "1   RT mleew17 boy dats cold...tyga dwn bad for c...  "
      ]
     },
     "execution_count": 12,
     "metadata": {},
     "output_type": "execute_result"
    }
   ],
   "source": [
    "hate_10k = pd.read_csv('../Data/hate10k_clean.csv')\n",
    "hate_10k.head(2)"
   ]
  },
  {
   "cell_type": "markdown",
   "metadata": {},
   "source": [
    "**Observation** For the ScatterText to work, you have to convert the classifying categories back into words. This is the code below to do so. "
   ]
  },
  {
   "cell_type": "code",
   "execution_count": 22,
   "metadata": {},
   "outputs": [],
   "source": [
    "tweeting = hate_10k.copy()"
   ]
  },
  {
   "cell_type": "code",
   "execution_count": 30,
   "metadata": {},
   "outputs": [],
   "source": [
    "tweeting['class'] = tweeting['class'].replace(0, 'hate_speech')"
   ]
  },
  {
   "cell_type": "code",
   "execution_count": 32,
   "metadata": {},
   "outputs": [],
   "source": [
    "tweeting['class'] = tweeting['class'].replace(1, 'offensive_language')"
   ]
  },
  {
   "cell_type": "code",
   "execution_count": 34,
   "metadata": {},
   "outputs": [],
   "source": [
    "tweeting['class'] = tweeting['class'].replace(2, 'neither')"
   ]
  },
  {
   "cell_type": "code",
   "execution_count": 35,
   "metadata": {},
   "outputs": [
    {
     "data": {
      "text/html": [
       "<div>\n",
       "<style scoped>\n",
       "    .dataframe tbody tr th:only-of-type {\n",
       "        vertical-align: middle;\n",
       "    }\n",
       "\n",
       "    .dataframe tbody tr th {\n",
       "        vertical-align: top;\n",
       "    }\n",
       "\n",
       "    .dataframe thead th {\n",
       "        text-align: right;\n",
       "    }\n",
       "</style>\n",
       "<table border=\"1\" class=\"dataframe\">\n",
       "  <thead>\n",
       "    <tr style=\"text-align: right;\">\n",
       "      <th></th>\n",
       "      <th>count</th>\n",
       "      <th>hate_speech</th>\n",
       "      <th>offensive_language</th>\n",
       "      <th>neither</th>\n",
       "      <th>class</th>\n",
       "      <th>tweet</th>\n",
       "    </tr>\n",
       "  </thead>\n",
       "  <tbody>\n",
       "    <tr>\n",
       "      <th>0</th>\n",
       "      <td>3</td>\n",
       "      <td>0</td>\n",
       "      <td>0</td>\n",
       "      <td>3</td>\n",
       "      <td>neither</td>\n",
       "      <td>RT mayasolovely As a woman you shouldn't comp...</td>\n",
       "    </tr>\n",
       "    <tr>\n",
       "      <th>1</th>\n",
       "      <td>3</td>\n",
       "      <td>0</td>\n",
       "      <td>3</td>\n",
       "      <td>0</td>\n",
       "      <td>offensive_language</td>\n",
       "      <td>RT mleew17 boy dats cold...tyga dwn bad for c...</td>\n",
       "    </tr>\n",
       "    <tr>\n",
       "      <th>2</th>\n",
       "      <td>3</td>\n",
       "      <td>0</td>\n",
       "      <td>3</td>\n",
       "      <td>0</td>\n",
       "      <td>offensive_language</td>\n",
       "      <td>RT UrKindOfBrand Dawg RT 80sbaby4life You eve...</td>\n",
       "    </tr>\n",
       "    <tr>\n",
       "      <th>3</th>\n",
       "      <td>3</td>\n",
       "      <td>0</td>\n",
       "      <td>2</td>\n",
       "      <td>1</td>\n",
       "      <td>offensive_language</td>\n",
       "      <td>RT C_G_Anderson viva_based she look like a tr...</td>\n",
       "    </tr>\n",
       "    <tr>\n",
       "      <th>4</th>\n",
       "      <td>6</td>\n",
       "      <td>0</td>\n",
       "      <td>6</td>\n",
       "      <td>0</td>\n",
       "      <td>offensive_language</td>\n",
       "      <td>RT ShenikaRoberts The shit you hear about me ...</td>\n",
       "    </tr>\n",
       "    <tr>\n",
       "      <th>...</th>\n",
       "      <td>...</td>\n",
       "      <td>...</td>\n",
       "      <td>...</td>\n",
       "      <td>...</td>\n",
       "      <td>...</td>\n",
       "      <td>...</td>\n",
       "    </tr>\n",
       "    <tr>\n",
       "      <th>9995</th>\n",
       "      <td>3</td>\n",
       "      <td>0</td>\n",
       "      <td>3</td>\n",
       "      <td>0</td>\n",
       "      <td>offensive_language</td>\n",
       "      <td>I ain't trying to fuck, bitch. I just want wings.</td>\n",
       "    </tr>\n",
       "    <tr>\n",
       "      <th>9996</th>\n",
       "      <td>6</td>\n",
       "      <td>0</td>\n",
       "      <td>6</td>\n",
       "      <td>0</td>\n",
       "      <td>offensive_language</td>\n",
       "      <td>I aint mad at you bitches thats what hoes do</td>\n",
       "    </tr>\n",
       "    <tr>\n",
       "      <th>9997</th>\n",
       "      <td>3</td>\n",
       "      <td>0</td>\n",
       "      <td>3</td>\n",
       "      <td>0</td>\n",
       "      <td>offensive_language</td>\n",
       "      <td>I aint mad at you, thats what hoes do</td>\n",
       "    </tr>\n",
       "    <tr>\n",
       "      <th>9998</th>\n",
       "      <td>3</td>\n",
       "      <td>0</td>\n",
       "      <td>3</td>\n",
       "      <td>0</td>\n",
       "      <td>offensive_language</td>\n",
       "      <td>I aint never had a prob with no other bitch ov...</td>\n",
       "    </tr>\n",
       "    <tr>\n",
       "      <th>9999</th>\n",
       "      <td>3</td>\n",
       "      <td>0</td>\n",
       "      <td>3</td>\n",
       "      <td>0</td>\n",
       "      <td>offensive_language</td>\n",
       "      <td>I aint no killa but dont push me, revenge is t...</td>\n",
       "    </tr>\n",
       "  </tbody>\n",
       "</table>\n",
       "<p>10000 rows × 6 columns</p>\n",
       "</div>"
      ],
      "text/plain": [
       "      count  hate_speech  offensive_language  neither               class  \\\n",
       "0         3            0                   0        3             neither   \n",
       "1         3            0                   3        0  offensive_language   \n",
       "2         3            0                   3        0  offensive_language   \n",
       "3         3            0                   2        1  offensive_language   \n",
       "4         6            0                   6        0  offensive_language   \n",
       "...     ...          ...                 ...      ...                 ...   \n",
       "9995      3            0                   3        0  offensive_language   \n",
       "9996      6            0                   6        0  offensive_language   \n",
       "9997      3            0                   3        0  offensive_language   \n",
       "9998      3            0                   3        0  offensive_language   \n",
       "9999      3            0                   3        0  offensive_language   \n",
       "\n",
       "                                                  tweet  \n",
       "0      RT mayasolovely As a woman you shouldn't comp...  \n",
       "1      RT mleew17 boy dats cold...tyga dwn bad for c...  \n",
       "2      RT UrKindOfBrand Dawg RT 80sbaby4life You eve...  \n",
       "3      RT C_G_Anderson viva_based she look like a tr...  \n",
       "4      RT ShenikaRoberts The shit you hear about me ...  \n",
       "...                                                 ...  \n",
       "9995  I ain't trying to fuck, bitch. I just want wings.  \n",
       "9996       I aint mad at you bitches thats what hoes do  \n",
       "9997              I aint mad at you, thats what hoes do  \n",
       "9998  I aint never had a prob with no other bitch ov...  \n",
       "9999  I aint no killa but dont push me, revenge is t...  \n",
       "\n",
       "[10000 rows x 6 columns]"
      ]
     },
     "execution_count": 35,
     "metadata": {},
     "output_type": "execute_result"
    }
   ],
   "source": [
    "tweeting"
   ]
  },
  {
   "cell_type": "code",
   "execution_count": 45,
   "metadata": {},
   "outputs": [],
   "source": [
    "tweeting = tweeting.drop(columns=['count', 'hate_speech', 'offensive_language', 'neither'])"
   ]
  },
  {
   "cell_type": "code",
   "execution_count": 46,
   "metadata": {},
   "outputs": [
    {
     "data": {
      "text/html": [
       "<div>\n",
       "<style scoped>\n",
       "    .dataframe tbody tr th:only-of-type {\n",
       "        vertical-align: middle;\n",
       "    }\n",
       "\n",
       "    .dataframe tbody tr th {\n",
       "        vertical-align: top;\n",
       "    }\n",
       "\n",
       "    .dataframe thead th {\n",
       "        text-align: right;\n",
       "    }\n",
       "</style>\n",
       "<table border=\"1\" class=\"dataframe\">\n",
       "  <thead>\n",
       "    <tr style=\"text-align: right;\">\n",
       "      <th></th>\n",
       "      <th>class</th>\n",
       "      <th>tweet</th>\n",
       "    </tr>\n",
       "  </thead>\n",
       "  <tbody>\n",
       "    <tr>\n",
       "      <th>0</th>\n",
       "      <td>neither</td>\n",
       "      <td>RT mayasolovely As a woman you shouldn't comp...</td>\n",
       "    </tr>\n",
       "    <tr>\n",
       "      <th>1</th>\n",
       "      <td>offensive_language</td>\n",
       "      <td>RT mleew17 boy dats cold...tyga dwn bad for c...</td>\n",
       "    </tr>\n",
       "    <tr>\n",
       "      <th>2</th>\n",
       "      <td>offensive_language</td>\n",
       "      <td>RT UrKindOfBrand Dawg RT 80sbaby4life You eve...</td>\n",
       "    </tr>\n",
       "    <tr>\n",
       "      <th>3</th>\n",
       "      <td>offensive_language</td>\n",
       "      <td>RT C_G_Anderson viva_based she look like a tr...</td>\n",
       "    </tr>\n",
       "    <tr>\n",
       "      <th>4</th>\n",
       "      <td>offensive_language</td>\n",
       "      <td>RT ShenikaRoberts The shit you hear about me ...</td>\n",
       "    </tr>\n",
       "    <tr>\n",
       "      <th>...</th>\n",
       "      <td>...</td>\n",
       "      <td>...</td>\n",
       "    </tr>\n",
       "    <tr>\n",
       "      <th>9995</th>\n",
       "      <td>offensive_language</td>\n",
       "      <td>I ain't trying to fuck, bitch. I just want wings.</td>\n",
       "    </tr>\n",
       "    <tr>\n",
       "      <th>9996</th>\n",
       "      <td>offensive_language</td>\n",
       "      <td>I aint mad at you bitches thats what hoes do</td>\n",
       "    </tr>\n",
       "    <tr>\n",
       "      <th>9997</th>\n",
       "      <td>offensive_language</td>\n",
       "      <td>I aint mad at you, thats what hoes do</td>\n",
       "    </tr>\n",
       "    <tr>\n",
       "      <th>9998</th>\n",
       "      <td>offensive_language</td>\n",
       "      <td>I aint never had a prob with no other bitch ov...</td>\n",
       "    </tr>\n",
       "    <tr>\n",
       "      <th>9999</th>\n",
       "      <td>offensive_language</td>\n",
       "      <td>I aint no killa but dont push me, revenge is t...</td>\n",
       "    </tr>\n",
       "  </tbody>\n",
       "</table>\n",
       "<p>10000 rows × 2 columns</p>\n",
       "</div>"
      ],
      "text/plain": [
       "                   class                                              tweet\n",
       "0                neither   RT mayasolovely As a woman you shouldn't comp...\n",
       "1     offensive_language   RT mleew17 boy dats cold...tyga dwn bad for c...\n",
       "2     offensive_language   RT UrKindOfBrand Dawg RT 80sbaby4life You eve...\n",
       "3     offensive_language   RT C_G_Anderson viva_based she look like a tr...\n",
       "4     offensive_language   RT ShenikaRoberts The shit you hear about me ...\n",
       "...                  ...                                                ...\n",
       "9995  offensive_language  I ain't trying to fuck, bitch. I just want wings.\n",
       "9996  offensive_language       I aint mad at you bitches thats what hoes do\n",
       "9997  offensive_language              I aint mad at you, thats what hoes do\n",
       "9998  offensive_language  I aint never had a prob with no other bitch ov...\n",
       "9999  offensive_language  I aint no killa but dont push me, revenge is t...\n",
       "\n",
       "[10000 rows x 2 columns]"
      ]
     },
     "execution_count": 46,
     "metadata": {},
     "output_type": "execute_result"
    }
   ],
   "source": [
    "tweeting"
   ]
  },
  {
   "cell_type": "code",
   "execution_count": null,
   "metadata": {},
   "outputs": [],
   "source": [
    "import spacy\n",
    "import spacy.cli\n",
    "import scattertext as st\n",
    "\n",
    "spacy.cli.download(\"en_core_web_md\")"
   ]
  },
  {
   "cell_type": "markdown",
   "metadata": {},
   "source": [
    "# Neither vs. Hate Speech"
   ]
  },
  {
   "cell_type": "code",
   "execution_count": 51,
   "metadata": {},
   "outputs": [
    {
     "data": {
      "text/plain": [
       "1734661"
      ]
     },
     "execution_count": 51,
     "metadata": {},
     "output_type": "execute_result"
    }
   ],
   "source": [
    "#  https://github.com/JasonKessler/scattertext\n",
    "#  Some code taken from above with the help of Nate Cox\n",
    "\n",
    "\n",
    "# This section of code generates an interactive scattertext plot and saves it to an html file.\n",
    "\n",
    "nlp = spacy.load('en_core_web_md')\n",
    "\n",
    "corpus = st.CorpusFromPandas(\n",
    "    tweeting,                   # change this (data frame)\n",
    "    category_col='class',     # change this (column)\n",
    "    text_col='tweet',              # change this (what you want to look at)\n",
    "    nlp=nlp\n",
    ").build()\n",
    "\n",
    "html = st.produce_scattertext_explorer(\n",
    "    corpus,\n",
    "    category='neither',          # change this(category_col value)\n",
    "    category_name='neither',     # change this(category_col value)\n",
    "    not_category_name='hate_speech', # change this(category_col value)\n",
    "    width_in_pixels=1000,\n",
    ")\n",
    "\n",
    "open('../hate10k_clean.html', 'w', encoding='utf-8').write(html)"
   ]
  },
  {
   "cell_type": "markdown",
   "metadata": {},
   "source": [
    "# Hate Speech vs. Offensive Language"
   ]
  },
  {
   "cell_type": "code",
   "execution_count": 52,
   "metadata": {},
   "outputs": [
    {
     "data": {
      "text/plain": [
       "1734524"
      ]
     },
     "execution_count": 52,
     "metadata": {},
     "output_type": "execute_result"
    }
   ],
   "source": [
    "#  https://github.com/JasonKessler/scattertext\n",
    "#  Some code taken from above with the help of Nate Cox\n",
    "\n",
    "\n",
    "# This section of code generates an interactive scattertext plot and saves it to an html file.\n",
    "\n",
    "nlp = spacy.load('en_core_web_md')\n",
    "\n",
    "corpus = st.CorpusFromPandas(\n",
    "    tweeting,                   # change this (data frame)\n",
    "    category_col='class',     # change this (column)\n",
    "    text_col='tweet',              # change this (what you want to look at)\n",
    "    nlp=nlp\n",
    ").build()\n",
    "\n",
    "html = st.produce_scattertext_explorer(\n",
    "    corpus,\n",
    "    category='hate_speech',          # change this(category_col value)\n",
    "    category_name='hate_speech',     # change this(category_col value)\n",
    "    not_category_name='offensive_language', # change this(category_col value)\n",
    "    width_in_pixels=1000,\n",
    ")\n",
    "\n",
    "open('../hate10k_clean.html', 'w', encoding='utf-8').write(html)"
   ]
  },
  {
   "cell_type": "markdown",
   "metadata": {},
   "source": [
    "# Neither vs. Offensive Language"
   ]
  },
  {
   "cell_type": "code",
   "execution_count": 53,
   "metadata": {},
   "outputs": [
    {
     "data": {
      "text/plain": [
       "1734668"
      ]
     },
     "execution_count": 53,
     "metadata": {},
     "output_type": "execute_result"
    }
   ],
   "source": [
    "#  https://github.com/JasonKessler/scattertext\n",
    "#  Some code taken from above with the help of Nate Cox\n",
    "\n",
    "\n",
    "# This section of code generates an interactive scattertext plot and saves it to an html file.\n",
    "\n",
    "nlp = spacy.load('en_core_web_md')\n",
    "\n",
    "corpus = st.CorpusFromPandas(\n",
    "    tweeting,                   # change this (data frame)\n",
    "    category_col='class',     # change this (column)\n",
    "    text_col='tweet',              # change this (what you want to look at)\n",
    "    nlp=nlp\n",
    ").build()\n",
    "\n",
    "html = st.produce_scattertext_explorer(\n",
    "    corpus,\n",
    "    category='neither',          # change this(category_col value)\n",
    "    category_name='neither',     # change this(category_col value)\n",
    "    not_category_name='offensive_language', # change this(category_col value)\n",
    "    width_in_pixels=1000,\n",
    ")\n",
    "\n",
    "open('../hate10k_clean.html', 'w', encoding='utf-8').write(html)"
   ]
  },
  {
   "cell_type": "code",
   "execution_count": null,
   "metadata": {},
   "outputs": [],
   "source": []
  },
  {
   "cell_type": "code",
   "execution_count": null,
   "metadata": {},
   "outputs": [],
   "source": []
  },
  {
   "cell_type": "code",
   "execution_count": null,
   "metadata": {},
   "outputs": [],
   "source": []
  }
 ],
 "metadata": {
  "interpreter": {
   "hash": "40d3a090f54c6569ab1632332b64b2c03c39dcf918b08424e98f38b5ae0af88f"
  },
  "kernelspec": {
   "display_name": "Python 3.9.7 64-bit ('base': conda)",
   "language": "python",
   "name": "python3"
  },
  "language_info": {
   "codemirror_mode": {
    "name": "ipython",
    "version": 3
   },
   "file_extension": ".py",
   "mimetype": "text/x-python",
   "name": "python",
   "nbconvert_exporter": "python",
   "pygments_lexer": "ipython3",
   "version": "3.9.7"
  },
  "orig_nbformat": 4
 },
 "nbformat": 4,
 "nbformat_minor": 2
}
