{
 "cells": [
  {
   "cell_type": "markdown",
   "metadata": {},
   "source": [
    "# Import Libraries & Tools"
   ]
  },
  {
   "cell_type": "code",
   "execution_count": 1,
   "metadata": {},
   "outputs": [],
   "source": [
    "import pandas as pd\n",
    "import numpy as np\n",
    "import matplotlib.pyplot as plt\n",
    "import seaborn as sns\n",
    "\n",
    "from sklearn.model_selection import train_test_split, GridSearchCV, RandomizedSearchCV\n",
    "from sklearn.linear_model import LinearRegression, Ridge, Lasso, ElasticNet, LogisticRegression \n",
    "from sklearn.impute import SimpleImputer\n",
    "from sklearn.neighbors import KNeighborsClassifier\n",
    "from sklearn.compose import make_column_transformer\n",
    "from sklearn.pipeline import Pipeline, make_pipeline\n",
    "from sklearn.preprocessing import OneHotEncoder, StandardScaler, PolynomialFeatures\n",
    "from sklearn.feature_selection import RFE\n",
    "from sklearn.metrics import mean_squared_error, mean_absolute_error, r2_score, balanced_accuracy_score, ConfusionMatrixDisplay, RocCurveDisplay, classification_report, precision_score, f1_score, precision_recall_fscore_support\n",
    "from sklearn.feature_extraction.text import CountVectorizer, TfidfVectorizer\n",
    "from sklearn.naive_bayes import MultinomialNB\n",
    "from sklearn.dummy import DummyClassifier\n",
    "from sklearn.ensemble import BaggingClassifier, VotingClassifier, VotingRegressor\n",
    "from sklearn.tree import DecisionTreeRegressor, DecisionTreeClassifier"
   ]
  },
  {
   "cell_type": "markdown",
   "metadata": {},
   "source": [
    "# Read in Clean Data"
   ]
  },
  {
   "cell_type": "code",
   "execution_count": 2,
   "metadata": {},
   "outputs": [
    {
     "data": {
      "text/html": [
       "<div>\n",
       "<style scoped>\n",
       "    .dataframe tbody tr th:only-of-type {\n",
       "        vertical-align: middle;\n",
       "    }\n",
       "\n",
       "    .dataframe tbody tr th {\n",
       "        vertical-align: top;\n",
       "    }\n",
       "\n",
       "    .dataframe thead th {\n",
       "        text-align: right;\n",
       "    }\n",
       "</style>\n",
       "<table border=\"1\" class=\"dataframe\">\n",
       "  <thead>\n",
       "    <tr style=\"text-align: right;\">\n",
       "      <th></th>\n",
       "      <th>count</th>\n",
       "      <th>hate_speech</th>\n",
       "      <th>offensive_language</th>\n",
       "      <th>neither</th>\n",
       "      <th>class</th>\n",
       "      <th>tweet</th>\n",
       "    </tr>\n",
       "  </thead>\n",
       "  <tbody>\n",
       "    <tr>\n",
       "      <th>0</th>\n",
       "      <td>3</td>\n",
       "      <td>0</td>\n",
       "      <td>0</td>\n",
       "      <td>3</td>\n",
       "      <td>2</td>\n",
       "      <td>RT mayasolovely As a woman you shouldn't comp...</td>\n",
       "    </tr>\n",
       "    <tr>\n",
       "      <th>1</th>\n",
       "      <td>3</td>\n",
       "      <td>0</td>\n",
       "      <td>3</td>\n",
       "      <td>0</td>\n",
       "      <td>1</td>\n",
       "      <td>RT mleew17 boy dats cold...tyga dwn bad for c...</td>\n",
       "    </tr>\n",
       "    <tr>\n",
       "      <th>2</th>\n",
       "      <td>3</td>\n",
       "      <td>0</td>\n",
       "      <td>3</td>\n",
       "      <td>0</td>\n",
       "      <td>1</td>\n",
       "      <td>RT UrKindOfBrand Dawg RT 80sbaby4life You eve...</td>\n",
       "    </tr>\n",
       "    <tr>\n",
       "      <th>3</th>\n",
       "      <td>3</td>\n",
       "      <td>0</td>\n",
       "      <td>2</td>\n",
       "      <td>1</td>\n",
       "      <td>1</td>\n",
       "      <td>RT C_G_Anderson viva_based she look like a tr...</td>\n",
       "    </tr>\n",
       "    <tr>\n",
       "      <th>4</th>\n",
       "      <td>6</td>\n",
       "      <td>0</td>\n",
       "      <td>6</td>\n",
       "      <td>0</td>\n",
       "      <td>1</td>\n",
       "      <td>RT ShenikaRoberts The shit you hear about me ...</td>\n",
       "    </tr>\n",
       "  </tbody>\n",
       "</table>\n",
       "</div>"
      ],
      "text/plain": [
       "   count  hate_speech  offensive_language  neither  class  \\\n",
       "0      3            0                   0        3      2   \n",
       "1      3            0                   3        0      1   \n",
       "2      3            0                   3        0      1   \n",
       "3      3            0                   2        1      1   \n",
       "4      6            0                   6        0      1   \n",
       "\n",
       "                                               tweet  \n",
       "0   RT mayasolovely As a woman you shouldn't comp...  \n",
       "1   RT mleew17 boy dats cold...tyga dwn bad for c...  \n",
       "2   RT UrKindOfBrand Dawg RT 80sbaby4life You eve...  \n",
       "3   RT C_G_Anderson viva_based she look like a tr...  \n",
       "4   RT ShenikaRoberts The shit you hear about me ...  "
      ]
     },
     "execution_count": 2,
     "metadata": {},
     "output_type": "execute_result"
    }
   ],
   "source": [
    "hate_10k = pd.read_csv('../Data/hate10k_clean.csv')\n",
    "hate_10k.head()"
   ]
  },
  {
   "cell_type": "markdown",
   "metadata": {},
   "source": [
    "# Data Inspection"
   ]
  },
  {
   "cell_type": "code",
   "execution_count": 3,
   "metadata": {},
   "outputs": [
    {
     "name": "stdout",
     "output_type": "stream",
     "text": [
      "<class 'pandas.core.frame.DataFrame'>\n",
      "RangeIndex: 10000 entries, 0 to 9999\n",
      "Data columns (total 6 columns):\n",
      " #   Column              Non-Null Count  Dtype \n",
      "---  ------              --------------  ----- \n",
      " 0   count               10000 non-null  int64 \n",
      " 1   hate_speech         10000 non-null  int64 \n",
      " 2   offensive_language  10000 non-null  int64 \n",
      " 3   neither             10000 non-null  int64 \n",
      " 4   class               10000 non-null  int64 \n",
      " 5   tweet               10000 non-null  object\n",
      "dtypes: int64(5), object(1)\n",
      "memory usage: 468.9+ KB\n"
     ]
    }
   ],
   "source": [
    "hate_10k.info()"
   ]
  },
  {
   "cell_type": "code",
   "execution_count": 4,
   "metadata": {},
   "outputs": [
    {
     "data": {
      "text/plain": [
       "count                 0\n",
       "hate_speech           0\n",
       "offensive_language    0\n",
       "neither               0\n",
       "class                 0\n",
       "tweet                 0\n",
       "dtype: int64"
      ]
     },
     "execution_count": 4,
     "metadata": {},
     "output_type": "execute_result"
    }
   ],
   "source": [
    "hate_10k.isna().sum()"
   ]
  },
  {
   "cell_type": "markdown",
   "metadata": {},
   "source": [
    "# Train Test Split"
   ]
  },
  {
   "cell_type": "code",
   "execution_count": 5,
   "metadata": {},
   "outputs": [
    {
     "data": {
      "text/plain": [
       "1    7486\n",
       "2    1734\n",
       "0     780\n",
       "Name: class, dtype: int64"
      ]
     },
     "execution_count": 5,
     "metadata": {},
     "output_type": "execute_result"
    }
   ],
   "source": [
    "#Checking to see if I have a balanced data \n",
    "hate_10k['class'].value_counts()"
   ]
  },
  {
   "cell_type": "code",
   "execution_count": 6,
   "metadata": {},
   "outputs": [
    {
     "data": {
      "text/plain": [
       "1    0.7486\n",
       "2    0.1734\n",
       "0    0.0780\n",
       "Name: class, dtype: float64"
      ]
     },
     "execution_count": 6,
     "metadata": {},
     "output_type": "execute_result"
    }
   ],
   "source": [
    "hate_10k['class'].value_counts(normalize=True)"
   ]
  },
  {
   "cell_type": "code",
   "execution_count": 7,
   "metadata": {},
   "outputs": [],
   "source": [
    "#Extracting feature array of X using only the 'tweet' column\n",
    "\n",
    "X = hate_10k['tweet']"
   ]
  },
  {
   "cell_type": "code",
   "execution_count": 8,
   "metadata": {},
   "outputs": [],
   "source": [
    "#Defining the y because this is the target for my models\n",
    "\n",
    "y = hate_10k['class']"
   ]
  },
  {
   "cell_type": "code",
   "execution_count": 9,
   "metadata": {},
   "outputs": [],
   "source": [
    "X_train, X_test, y_train, y_test = train_test_split(X, y, random_state=444, stratify=y)"
   ]
  },
  {
   "cell_type": "markdown",
   "metadata": {},
   "source": [
    "# The Null Model, 0.75"
   ]
  },
  {
   "cell_type": "code",
   "execution_count": 10,
   "metadata": {},
   "outputs": [
    {
     "data": {
      "text/plain": [
       "0.7484"
      ]
     },
     "execution_count": 10,
     "metadata": {},
     "output_type": "execute_result"
    }
   ],
   "source": [
    "#Using a dummy classifier for null model\n",
    "\n",
    "null_model = DummyClassifier()\n",
    "null_model.fit(X_train, y_train)\n",
    "null_model.score(X_test, y_test)"
   ]
  },
  {
   "cell_type": "code",
   "execution_count": 71,
   "metadata": {},
   "outputs": [
    {
     "data": {
      "text/plain": [
       "array([1, 1, 1, ..., 1, 1, 1])"
      ]
     },
     "execution_count": 71,
     "metadata": {},
     "output_type": "execute_result"
    }
   ],
   "source": [
    "null_preds = null_model.predict(X_test)\n",
    "null_preds"
   ]
  },
  {
   "cell_type": "code",
   "execution_count": 72,
   "metadata": {},
   "outputs": [
    {
     "data": {
      "text/plain": [
       "0.3333333333333333"
      ]
     },
     "execution_count": 72,
     "metadata": {},
     "output_type": "execute_result"
    }
   ],
   "source": [
    "balanced_accuracy_score(y_test, null_preds)"
   ]
  },
  {
   "cell_type": "code",
   "execution_count": 73,
   "metadata": {},
   "outputs": [
    {
     "name": "stdout",
     "output_type": "stream",
     "text": [
      "              precision    recall  f1-score   support\n",
      "\n",
      "           0       0.00      0.00      0.00       195\n",
      "           1       0.75      1.00      0.86      1871\n",
      "           2       0.00      0.00      0.00       434\n",
      "\n",
      "    accuracy                           0.75      2500\n",
      "   macro avg       0.25      0.33      0.29      2500\n",
      "weighted avg       0.56      0.75      0.64      2500\n",
      "\n"
     ]
    },
    {
     "name": "stderr",
     "output_type": "stream",
     "text": [
      "/opt/anaconda3/lib/python3.9/site-packages/sklearn/metrics/_classification.py:1318: UndefinedMetricWarning: Precision and F-score are ill-defined and being set to 0.0 in labels with no predicted samples. Use `zero_division` parameter to control this behavior.\n",
      "  _warn_prf(average, modifier, msg_start, len(result))\n",
      "/opt/anaconda3/lib/python3.9/site-packages/sklearn/metrics/_classification.py:1318: UndefinedMetricWarning: Precision and F-score are ill-defined and being set to 0.0 in labels with no predicted samples. Use `zero_division` parameter to control this behavior.\n",
      "  _warn_prf(average, modifier, msg_start, len(result))\n",
      "/opt/anaconda3/lib/python3.9/site-packages/sklearn/metrics/_classification.py:1318: UndefinedMetricWarning: Precision and F-score are ill-defined and being set to 0.0 in labels with no predicted samples. Use `zero_division` parameter to control this behavior.\n",
      "  _warn_prf(average, modifier, msg_start, len(result))\n"
     ]
    }
   ],
   "source": [
    "print(metrics.classification_report(y_test, null_preds))"
   ]
  },
  {
   "cell_type": "code",
   "execution_count": 11,
   "metadata": {},
   "outputs": [
    {
     "data": {
      "image/png": "[encoded data removed]",
      "text/plain": [
       "<Figure size 432x288 with 2 Axes>"
      ]
     },
     "metadata": {
      "needs_background": "light"
     },
     "output_type": "display_data"
    }
   ],
   "source": [
    "ConfusionMatrixDisplay.from_estimator(null_model, X_test, y_test, cmap='Blues');"
   ]
  },
  {
   "cell_type": "markdown",
   "metadata": {},
   "source": [
    "**Observation** I will use this model to compare my other models too. Using the quick method of a dummy classifier, I have a null model accuracy of 74.8%. For a null model, I consider this high. I suspect the reason it is high, because the data is imbalanced. Now, I will decide between using the SMOTE method by oversampling or leaving it as it is. "
   ]
  },
  {
   "cell_type": "markdown",
   "metadata": {},
   "source": [
    "# Countvectorizer with Logistic Regression, 0.87"
   ]
  },
  {
   "cell_type": "code",
   "execution_count": 12,
   "metadata": {},
   "outputs": [
    {
     "data": {
      "text/plain": [
       "GridSearchCV(estimator=Pipeline(steps=[('countvectorizer',\n",
       "                                        CountVectorizer(stop_words='english')),\n",
       "                                       ('logisticregression',\n",
       "                                        LogisticRegression(max_iter=10000))]),\n",
       "             n_jobs=-1,\n",
       "             param_grid={'countvectorizer__max_df': [0.9, 1],\n",
       "                         'countvectorizer__min_df': [0],\n",
       "                         'countvectorizer__ngram_range': [(1, 2)]})"
      ]
     },
     "execution_count": 12,
     "metadata": {},
     "output_type": "execute_result"
    }
   ],
   "source": [
    "#Instantiate CountVectorizer & Logisticression\n",
    "cvect = CountVectorizer(stop_words='english')\n",
    "logreg = LogisticRegression(max_iter=10_000)\n",
    "\n",
    "#Using a pipeline to expedite the model with params\n",
    "pipe1 = make_pipeline(\n",
    "    cvect,\n",
    "    logreg\n",
    ")\n",
    "\n",
    "#Choice of params\n",
    "params1 = {\n",
    "    'countvectorizer__min_df': [0],\n",
    "    'countvectorizer__max_df': [0.9, 1],\n",
    "    'countvectorizer__ngram_range': [(1,2)]\n",
    "}\n",
    "\n",
    "#Using gridsearch to have better options for the model\n",
    "gs1 = GridSearchCV(pipe1, params1, n_jobs=-1)\n",
    "\n",
    "#Fit the model\n",
    "gs1.fit(X_train, y_train)"
   ]
  },
  {
   "cell_type": "code",
   "execution_count": 13,
   "metadata": {},
   "outputs": [
    {
     "data": {
      "text/html": [
       "<div>\n",
       "<style scoped>\n",
       "    .dataframe tbody tr th:only-of-type {\n",
       "        vertical-align: middle;\n",
       "    }\n",
       "\n",
       "    .dataframe tbody tr th {\n",
       "        vertical-align: top;\n",
       "    }\n",
       "\n",
       "    .dataframe thead th {\n",
       "        text-align: right;\n",
       "    }\n",
       "</style>\n",
       "<table border=\"1\" class=\"dataframe\">\n",
       "  <thead>\n",
       "    <tr style=\"text-align: right;\">\n",
       "      <th></th>\n",
       "      <th>params</th>\n",
       "      <th>mean_test_score</th>\n",
       "    </tr>\n",
       "  </thead>\n",
       "  <tbody>\n",
       "    <tr>\n",
       "      <th>1</th>\n",
       "      <td>{'countvectorizer__max_df': 1, 'countvectorize...</td>\n",
       "      <td>0.749200</td>\n",
       "    </tr>\n",
       "    <tr>\n",
       "      <th>0</th>\n",
       "      <td>{'countvectorizer__max_df': 0.9, 'countvectori...</td>\n",
       "      <td>0.868133</td>\n",
       "    </tr>\n",
       "  </tbody>\n",
       "</table>\n",
       "</div>"
      ],
      "text/plain": [
       "                                              params  mean_test_score\n",
       "1  {'countvectorizer__max_df': 1, 'countvectorize...         0.749200\n",
       "0  {'countvectorizer__max_df': 0.9, 'countvectori...         0.868133"
      ]
     },
     "execution_count": 13,
     "metadata": {},
     "output_type": "execute_result"
    }
   ],
   "source": [
    "gs1.cv_results_\n",
    "\n",
    "pd.DataFrame(gs1.cv_results_).loc[:, ['params', 'mean_test_score']].sort_values(by='mean_test_score')"
   ]
  },
  {
   "cell_type": "code",
   "execution_count": 14,
   "metadata": {},
   "outputs": [
    {
     "data": {
      "text/plain": [
       "0.874"
      ]
     },
     "execution_count": 14,
     "metadata": {},
     "output_type": "execute_result"
    }
   ],
   "source": [
    "gs1.score(X_test, y_test)"
   ]
  },
  {
   "cell_type": "code",
   "execution_count": 28,
   "metadata": {},
   "outputs": [
    {
     "data": {
      "text/plain": [
       "array([2, 1, 1, ..., 1, 2, 1])"
      ]
     },
     "execution_count": 28,
     "metadata": {},
     "output_type": "execute_result"
    }
   ],
   "source": [
    "y_preds1 = gs1.predict(X_test)\n",
    "y_preds1"
   ]
  },
  {
   "cell_type": "code",
   "execution_count": 16,
   "metadata": {},
   "outputs": [
    {
     "data": {
      "image/png": "[encoded data removed]",
      "text/plain": [
       "<Figure size 432x288 with 2 Axes>"
      ]
     },
     "metadata": {
      "needs_background": "light"
     },
     "output_type": "display_data"
    }
   ],
   "source": [
    "ConfusionMatrixDisplay.from_estimator(gs1, X_test, y_test, cmap='Greens', normalize='true');"
   ]
  },
  {
   "cell_type": "code",
   "execution_count": 17,
   "metadata": {},
   "outputs": [
    {
     "data": {
      "image/png": "[encoded data removed]",
      "text/plain": [
       "<Figure size 432x288 with 2 Axes>"
      ]
     },
     "metadata": {
      "needs_background": "light"
     },
     "output_type": "display_data"
    }
   ],
   "source": [
    "# hate_speech = 0, offensive language = 1, neither = 2\n",
    "ConfusionMatrixDisplay.from_estimator(gs1, X_test, y_test, cmap='Greens');"
   ]
  },
  {
   "cell_type": "markdown",
   "metadata": {},
   "source": [
    "**Observation** The model above has a score of 86%, which beats the null model by 12%. It shows that it correctly identified class 1 (offensive language) with 95% accuracy. Although, it did not do well in class 0 (hate speech). This can skew my question of whether the Twitter algorithm has a racial bias.  "
   ]
  },
  {
   "cell_type": "code",
   "execution_count": 29,
   "metadata": {},
   "outputs": [
    {
     "data": {
      "text/plain": [
       "0.6625340613995983"
      ]
     },
     "execution_count": 29,
     "metadata": {},
     "output_type": "execute_result"
    }
   ],
   "source": [
    "balanced_accuracy_score(y_test, y_preds1)"
   ]
  },
  {
   "cell_type": "code",
   "execution_count": 30,
   "metadata": {},
   "outputs": [
    {
     "name": "stdout",
     "output_type": "stream",
     "text": [
      "              precision    recall  f1-score   support\n",
      "\n",
      "           0       0.53      0.20      0.29       195\n",
      "           1       0.90      0.95      0.92      1871\n",
      "           2       0.84      0.83      0.84       434\n",
      "\n",
      "    accuracy                           0.87      2500\n",
      "   macro avg       0.75      0.66      0.68      2500\n",
      "weighted avg       0.86      0.87      0.86      2500\n",
      "\n"
     ]
    }
   ],
   "source": [
    "from sklearn import metrics\n",
    "print(metrics.classification_report(y_test, y_preds1))"
   ]
  },
  {
   "cell_type": "markdown",
   "metadata": {},
   "source": [
    "# Lemmatizer with Logistic Reggression, 0.86"
   ]
  },
  {
   "cell_type": "code",
   "execution_count": 31,
   "metadata": {},
   "outputs": [],
   "source": [
    "from nltk import word_tokenize\n",
    "from nltk import WordNetLemmatizer"
   ]
  },
  {
   "cell_type": "code",
   "execution_count": 32,
   "metadata": {},
   "outputs": [],
   "source": [
    "class LemmaTokenizer():\n",
    "    def __init__(self):\n",
    "        self.wnl = WordNetLemmatizer()\n",
    "    def __call__(self, doc):\n",
    "        return [ self.wnl.lemmatize(t) for t in word_tokenize(doc)]"
   ]
  },
  {
   "cell_type": "code",
   "execution_count": 33,
   "metadata": {},
   "outputs": [
    {
     "data": {
      "text/plain": [
       "0.8604"
      ]
     },
     "execution_count": 33,
     "metadata": {},
     "output_type": "execute_result"
    }
   ],
   "source": [
    "lemma = WordNetLemmatizer()\n",
    "vect_lemmas = CountVectorizer(max_features=500, tokenizer=LemmaTokenizer())\n",
    "\n",
    "X_train_lemmas = vect_lemmas.fit_transform(X_train)\n",
    "X_test_lemmas = vect_lemmas.transform(X_test)\n",
    "\n",
    "lr = LogisticRegression(max_iter=10_000, random_state=444)\n",
    "lr.fit(X_train_lemmas, y_train)\n",
    "lr.score(X_test_lemmas, y_test)"
   ]
  },
  {
   "cell_type": "code",
   "execution_count": 37,
   "metadata": {},
   "outputs": [
    {
     "data": {
      "text/plain": [
       "0.6719145320617709"
      ]
     },
     "execution_count": 37,
     "metadata": {},
     "output_type": "execute_result"
    }
   ],
   "source": [
    "balanced_accuracy_score(y_test, y_preds_lemma)"
   ]
  },
  {
   "cell_type": "code",
   "execution_count": 35,
   "metadata": {},
   "outputs": [
    {
     "data": {
      "text/plain": [
       "array([2, 1, 1, ..., 1, 2, 1])"
      ]
     },
     "execution_count": 35,
     "metadata": {},
     "output_type": "execute_result"
    }
   ],
   "source": [
    "y_preds_lemma =lr.predict(X_test_lemmas) \n",
    "y_preds_lemma"
   ]
  },
  {
   "cell_type": "code",
   "execution_count": 38,
   "metadata": {},
   "outputs": [
    {
     "name": "stdout",
     "output_type": "stream",
     "text": [
      "              precision    recall  f1-score   support\n",
      "\n",
      "           0       0.48      0.24      0.32       195\n",
      "           1       0.90      0.93      0.91      1871\n",
      "           2       0.77      0.85      0.81       434\n",
      "\n",
      "    accuracy                           0.86      2500\n",
      "   macro avg       0.72      0.67      0.68      2500\n",
      "weighted avg       0.85      0.86      0.85      2500\n",
      "\n"
     ]
    }
   ],
   "source": [
    "print(metrics.classification_report(y_test, y_preds_lemma))"
   ]
  },
  {
   "cell_type": "markdown",
   "metadata": {},
   "source": [
    "# Tfidf with Simple Logistic Regression, 0.86"
   ]
  },
  {
   "cell_type": "code",
   "execution_count": 40,
   "metadata": {},
   "outputs": [
    {
     "data": {
      "text/plain": [
       "GridSearchCV(estimator=Pipeline(steps=[('tfidfvectorizer',\n",
       "                                        TfidfVectorizer(stop_words='english')),\n",
       "                                       ('logisticregression',\n",
       "                                        LogisticRegression())]),\n",
       "             n_jobs=-1,\n",
       "             param_grid={'tfidfvectorizer__max_features': [10000],\n",
       "                         'tfidfvectorizer__ngram_range': [(1, 2)],\n",
       "                         'tfidfvectorizer__stop_words': ['english']})"
      ]
     },
     "execution_count": 40,
     "metadata": {},
     "output_type": "execute_result"
    }
   ],
   "source": [
    "#Instantiate TfidfVectorizer & Logistic Regression\n",
    "tfidf_vect = TfidfVectorizer(stop_words='english')\n",
    "logreg = LogisticRegression()\n",
    "\n",
    "#Using a pipeline to expedite the model with params\n",
    "pipe2 = make_pipeline(\n",
    "    tfidf_vect,\n",
    "    logreg\n",
    ")\n",
    "\n",
    "#Choice of params\n",
    "params2 = {\n",
    "\"tfidfvectorizer__stop_words\": ['english'],\n",
    "\"tfidfvectorizer__max_features\": [10_000],\n",
    "\"tfidfvectorizer__ngram_range\": [(1,2)]\n",
    "}\n",
    "\n",
    "#Used Gridsearchcv to help find the best options\n",
    "gs2 = GridSearchCV(pipe2, params2, n_jobs=-1)\n",
    "\n",
    "#Fitting the model\n",
    "gs2.fit(X_train, y_train)"
   ]
  },
  {
   "cell_type": "code",
   "execution_count": 41,
   "metadata": {},
   "outputs": [
    {
     "data": {
      "text/html": [
       "<div>\n",
       "<style scoped>\n",
       "    .dataframe tbody tr th:only-of-type {\n",
       "        vertical-align: middle;\n",
       "    }\n",
       "\n",
       "    .dataframe tbody tr th {\n",
       "        vertical-align: top;\n",
       "    }\n",
       "\n",
       "    .dataframe thead th {\n",
       "        text-align: right;\n",
       "    }\n",
       "</style>\n",
       "<table border=\"1\" class=\"dataframe\">\n",
       "  <thead>\n",
       "    <tr style=\"text-align: right;\">\n",
       "      <th></th>\n",
       "      <th>params</th>\n",
       "      <th>mean_test_score</th>\n",
       "    </tr>\n",
       "  </thead>\n",
       "  <tbody>\n",
       "    <tr>\n",
       "      <th>0</th>\n",
       "      <td>{'tfidfvectorizer__max_features': 10000, 'tfid...</td>\n",
       "      <td>0.853733</td>\n",
       "    </tr>\n",
       "  </tbody>\n",
       "</table>\n",
       "</div>"
      ],
      "text/plain": [
       "                                              params  mean_test_score\n",
       "0  {'tfidfvectorizer__max_features': 10000, 'tfid...         0.853733"
      ]
     },
     "execution_count": 41,
     "metadata": {},
     "output_type": "execute_result"
    }
   ],
   "source": [
    "gs2.cv_results_\n",
    "\n",
    "pd.DataFrame(gs2.cv_results_).loc[:, ['params', 'mean_test_score']].sort_values(by = 'mean_test_score')\n"
   ]
  },
  {
   "cell_type": "code",
   "execution_count": 42,
   "metadata": {},
   "outputs": [
    {
     "data": {
      "text/plain": [
       "0.8588"
      ]
     },
     "execution_count": 42,
     "metadata": {},
     "output_type": "execute_result"
    }
   ],
   "source": [
    "gs2.score(X_test, y_test)"
   ]
  },
  {
   "cell_type": "code",
   "execution_count": 43,
   "metadata": {},
   "outputs": [
    {
     "data": {
      "image/png": "[encoded data removed]",
      "text/plain": [
       "<Figure size 432x288 with 2 Axes>"
      ]
     },
     "metadata": {
      "needs_background": "light"
     },
     "output_type": "display_data"
    }
   ],
   "source": [
    "# hate_speech = 0, offensive language = 1, neither = 2\n",
    "ConfusionMatrixDisplay.from_estimator(gs2, X_test, y_test, cmap='Blues');"
   ]
  },
  {
   "cell_type": "code",
   "execution_count": 44,
   "metadata": {},
   "outputs": [
    {
     "data": {
      "image/png": "[encoded data removed]",
      "text/plain": [
       "<Figure size 432x288 with 2 Axes>"
      ]
     },
     "metadata": {
      "needs_background": "light"
     },
     "output_type": "display_data"
    }
   ],
   "source": [
    "# hate_speech = 0, offensive language = 1, neither = 2\n",
    "ConfusionMatrixDisplay.from_estimator(gs2, X_test, y_test, cmap='Blues', normalize='true');"
   ]
  },
  {
   "cell_type": "code",
   "execution_count": 45,
   "metadata": {},
   "outputs": [
    {
     "data": {
      "text/plain": [
       "array([2, 1, 1, ..., 1, 2, 1])"
      ]
     },
     "execution_count": 45,
     "metadata": {},
     "output_type": "execute_result"
    }
   ],
   "source": [
    "y_preds2 = gs2.predict(X_test)\n",
    "y_preds2"
   ]
  },
  {
   "cell_type": "code",
   "execution_count": 46,
   "metadata": {},
   "outputs": [
    {
     "data": {
      "text/plain": [
       "0.6122375053152109"
      ]
     },
     "execution_count": 46,
     "metadata": {},
     "output_type": "execute_result"
    }
   ],
   "source": [
    "balanced_accuracy_score(y_test, y_preds2)"
   ]
  },
  {
   "cell_type": "code",
   "execution_count": 47,
   "metadata": {},
   "outputs": [
    {
     "name": "stdout",
     "output_type": "stream",
     "text": [
      "              precision    recall  f1-score   support\n",
      "\n",
      "           0       0.64      0.18      0.29       195\n",
      "           1       0.86      0.97      0.91      1871\n",
      "           2       0.87      0.68      0.76       434\n",
      "\n",
      "    accuracy                           0.86      2500\n",
      "   macro avg       0.79      0.61      0.65      2500\n",
      "weighted avg       0.85      0.86      0.84      2500\n",
      "\n"
     ]
    }
   ],
   "source": [
    "print(metrics.classification_report(y_test, y_preds2))"
   ]
  },
  {
   "cell_type": "markdown",
   "metadata": {},
   "source": [
    "# Tfidf Logistic Regression with Hyperparameter of C value, 0.858"
   ]
  },
  {
   "cell_type": "code",
   "execution_count": 49,
   "metadata": {},
   "outputs": [
    {
     "data": {
      "text/plain": [
       "GridSearchCV(estimator=Pipeline(steps=[('tfidfvectorizer',\n",
       "                                        TfidfVectorizer(stop_words='english')),\n",
       "                                       ('logisticregression',\n",
       "                                        LogisticRegression())]),\n",
       "             n_jobs=-1,\n",
       "             param_grid={'tfidfvectorizer__max_features': [10000],\n",
       "                         'tfidfvectorizer__ngram_range': [(1, 2)],\n",
       "                         'tfidfvectorizer__stop_words': ['english']})"
      ]
     },
     "execution_count": 49,
     "metadata": {},
     "output_type": "execute_result"
    }
   ],
   "source": [
    "#Instantiate TfidfVectorizer & Logistic Regression\n",
    "tfidf_vect = TfidfVectorizer(stop_words='english')\n",
    "logreg = LogisticRegression(max_iter=10_000)\n",
    "\n",
    "#Using a pipeline to expedite the model with params\n",
    "pipe3 = make_pipeline(\n",
    "    tfidf_vect,\n",
    "    logreg\n",
    ")\n",
    "\n",
    "#Choice of params\n",
    "params3 = {\n",
    "\"tfidfvectorizer__stop_words\": ['english'],\n",
    "\"tfidfvectorizer__max_features\": [10_000],\n",
    "\"tfidfvectorizer__ngram_range\": [(1,2), (1,1)],\n",
    "\"logisticregression__C\": [10, 100]\n",
    "}\n",
    "\n",
    "#Used Gridsearchcv to help find the best options\n",
    "gs3 = GridSearchCV(pipe2, params2, n_jobs=-1)\n",
    "\n",
    "#Fitting the model\n",
    "gs3.fit(X_train, y_train) "
   ]
  },
  {
   "cell_type": "code",
   "execution_count": 50,
   "metadata": {},
   "outputs": [
    {
     "data": {
      "text/html": [
       "<div>\n",
       "<style scoped>\n",
       "    .dataframe tbody tr th:only-of-type {\n",
       "        vertical-align: middle;\n",
       "    }\n",
       "\n",
       "    .dataframe tbody tr th {\n",
       "        vertical-align: top;\n",
       "    }\n",
       "\n",
       "    .dataframe thead th {\n",
       "        text-align: right;\n",
       "    }\n",
       "</style>\n",
       "<table border=\"1\" class=\"dataframe\">\n",
       "  <thead>\n",
       "    <tr style=\"text-align: right;\">\n",
       "      <th></th>\n",
       "      <th>params</th>\n",
       "      <th>mean_test_score</th>\n",
       "    </tr>\n",
       "  </thead>\n",
       "  <tbody>\n",
       "    <tr>\n",
       "      <th>0</th>\n",
       "      <td>{'tfidfvectorizer__max_features': 10000, 'tfid...</td>\n",
       "      <td>0.853733</td>\n",
       "    </tr>\n",
       "  </tbody>\n",
       "</table>\n",
       "</div>"
      ],
      "text/plain": [
       "                                              params  mean_test_score\n",
       "0  {'tfidfvectorizer__max_features': 10000, 'tfid...         0.853733"
      ]
     },
     "execution_count": 50,
     "metadata": {},
     "output_type": "execute_result"
    }
   ],
   "source": [
    "gs3.cv_results_\n",
    "\n",
    "pd.DataFrame(gs3.cv_results_).loc[:, ['params', 'mean_test_score']].sort_values(by='mean_test_score')\n",
    "\n"
   ]
  },
  {
   "cell_type": "code",
   "execution_count": 51,
   "metadata": {},
   "outputs": [
    {
     "data": {
      "text/plain": [
       "0.8588"
      ]
     },
     "execution_count": 51,
     "metadata": {},
     "output_type": "execute_result"
    }
   ],
   "source": [
    "gs3.score(X_test, y_test)"
   ]
  },
  {
   "cell_type": "code",
   "execution_count": 52,
   "metadata": {},
   "outputs": [
    {
     "data": {
      "text/plain": [
       "array([2, 1, 1, ..., 1, 2, 1])"
      ]
     },
     "execution_count": 52,
     "metadata": {},
     "output_type": "execute_result"
    }
   ],
   "source": [
    "y_preds3 = gs3.predict(X_test)\n",
    "y_preds3"
   ]
  },
  {
   "cell_type": "code",
   "execution_count": 61,
   "metadata": {},
   "outputs": [
    {
     "data": {
      "text/plain": [
       "0.6122375053152109"
      ]
     },
     "execution_count": 61,
     "metadata": {},
     "output_type": "execute_result"
    }
   ],
   "source": [
    "balanced_accuracy_score(y_test, y_preds3)"
   ]
  },
  {
   "cell_type": "code",
   "execution_count": 62,
   "metadata": {},
   "outputs": [
    {
     "name": "stdout",
     "output_type": "stream",
     "text": [
      "              precision    recall  f1-score   support\n",
      "\n",
      "           0       0.64      0.18      0.29       195\n",
      "           1       0.86      0.97      0.91      1871\n",
      "           2       0.87      0.68      0.76       434\n",
      "\n",
      "    accuracy                           0.86      2500\n",
      "   macro avg       0.79      0.61      0.65      2500\n",
      "weighted avg       0.85      0.86      0.84      2500\n",
      "\n"
     ]
    }
   ],
   "source": [
    "print(metrics.classification_report(y_test, y_preds3))"
   ]
  },
  {
   "cell_type": "markdown",
   "metadata": {},
   "source": [
    "# CountVect & KNN Classifier, 0.81"
   ]
  },
  {
   "cell_type": "code",
   "execution_count": 53,
   "metadata": {},
   "outputs": [
    {
     "data": {
      "text/plain": [
       "GridSearchCV(cv=5,\n",
       "             estimator=Pipeline(steps=[('countvectorizer',\n",
       "                                        CountVectorizer(stop_words='english')),\n",
       "                                       ('kneighborsclassifier',\n",
       "                                        KNeighborsClassifier())]),\n",
       "             n_jobs=-1,\n",
       "             param_grid={'countvectorizer__max_df': [0.9, 1],\n",
       "                         'countvectorizer__min_df': [0],\n",
       "                         'countvectorizer__ngram_range': [(1, 2), (1, 3)],\n",
       "                         'kneighborsclassifier__n_neighbors': [1, 3, 5, 7, 9,\n",
       "                                                               11],\n",
       "                         'kneighborsclassifier__weights': ['uniform',\n",
       "                                                           'distance']})"
      ]
     },
     "execution_count": 53,
     "metadata": {},
     "output_type": "execute_result"
    }
   ],
   "source": [
    "pipe4 = make_pipeline(\n",
    "    CountVectorizer(stop_words='english'),\n",
    "    KNeighborsClassifier(),\n",
    ")\n",
    "\n",
    "params4 ={\n",
    "\"countvectorizer__ngram_range\": [(1,2), (1,3)],\n",
    "\"countvectorizer__max_df\": [0.9, 1],\n",
    "\"countvectorizer__min_df\": [0],\n",
    "\"kneighborsclassifier__n_neighbors\": [1, 3, 5, 7, 9, 11],\n",
    "\"kneighborsclassifier__weights\": ['uniform', 'distance']\n",
    "}\n",
    "\n",
    "gs4 = GridSearchCV(pipe4, params4, n_jobs=-1, cv=5)\n",
    "\n",
    "gs4.fit(X_train, y_train)"
   ]
  },
  {
   "cell_type": "code",
   "execution_count": 54,
   "metadata": {},
   "outputs": [
    {
     "data": {
      "text/html": [
       "<div>\n",
       "<style scoped>\n",
       "    .dataframe tbody tr th:only-of-type {\n",
       "        vertical-align: middle;\n",
       "    }\n",
       "\n",
       "    .dataframe tbody tr th {\n",
       "        vertical-align: top;\n",
       "    }\n",
       "\n",
       "    .dataframe thead th {\n",
       "        text-align: right;\n",
       "    }\n",
       "</style>\n",
       "<table border=\"1\" class=\"dataframe\">\n",
       "  <thead>\n",
       "    <tr style=\"text-align: right;\">\n",
       "      <th></th>\n",
       "      <th>params</th>\n",
       "      <th>mean_test_score</th>\n",
       "    </tr>\n",
       "  </thead>\n",
       "  <tbody>\n",
       "    <tr>\n",
       "      <th>29</th>\n",
       "      <td>{'countvectorizer__max_df': 1, 'countvectorize...</td>\n",
       "      <td>0.748400</td>\n",
       "    </tr>\n",
       "    <tr>\n",
       "      <th>28</th>\n",
       "      <td>{'countvectorizer__max_df': 1, 'countvectorize...</td>\n",
       "      <td>0.748400</td>\n",
       "    </tr>\n",
       "    <tr>\n",
       "      <th>31</th>\n",
       "      <td>{'countvectorizer__max_df': 1, 'countvectorize...</td>\n",
       "      <td>0.748533</td>\n",
       "    </tr>\n",
       "    <tr>\n",
       "      <th>33</th>\n",
       "      <td>{'countvectorizer__max_df': 1, 'countvectorize...</td>\n",
       "      <td>0.748533</td>\n",
       "    </tr>\n",
       "    <tr>\n",
       "      <th>35</th>\n",
       "      <td>{'countvectorizer__max_df': 1, 'countvectorize...</td>\n",
       "      <td>0.748533</td>\n",
       "    </tr>\n",
       "    <tr>\n",
       "      <th>47</th>\n",
       "      <td>{'countvectorizer__max_df': 1, 'countvectorize...</td>\n",
       "      <td>0.748533</td>\n",
       "    </tr>\n",
       "    <tr>\n",
       "      <th>45</th>\n",
       "      <td>{'countvectorizer__max_df': 1, 'countvectorize...</td>\n",
       "      <td>0.748533</td>\n",
       "    </tr>\n",
       "    <tr>\n",
       "      <th>27</th>\n",
       "      <td>{'countvectorizer__max_df': 1, 'countvectorize...</td>\n",
       "      <td>0.748667</td>\n",
       "    </tr>\n",
       "    <tr>\n",
       "      <th>43</th>\n",
       "      <td>{'countvectorizer__max_df': 1, 'countvectorize...</td>\n",
       "      <td>0.748667</td>\n",
       "    </tr>\n",
       "    <tr>\n",
       "      <th>39</th>\n",
       "      <td>{'countvectorizer__max_df': 1, 'countvectorize...</td>\n",
       "      <td>0.748667</td>\n",
       "    </tr>\n",
       "    <tr>\n",
       "      <th>26</th>\n",
       "      <td>{'countvectorizer__max_df': 1, 'countvectorize...</td>\n",
       "      <td>0.748667</td>\n",
       "    </tr>\n",
       "    <tr>\n",
       "      <th>46</th>\n",
       "      <td>{'countvectorizer__max_df': 1, 'countvectorize...</td>\n",
       "      <td>0.748667</td>\n",
       "    </tr>\n",
       "    <tr>\n",
       "      <th>30</th>\n",
       "      <td>{'countvectorizer__max_df': 1, 'countvectorize...</td>\n",
       "      <td>0.748667</td>\n",
       "    </tr>\n",
       "    <tr>\n",
       "      <th>38</th>\n",
       "      <td>{'countvectorizer__max_df': 1, 'countvectorize...</td>\n",
       "      <td>0.748667</td>\n",
       "    </tr>\n",
       "    <tr>\n",
       "      <th>44</th>\n",
       "      <td>{'countvectorizer__max_df': 1, 'countvectorize...</td>\n",
       "      <td>0.748667</td>\n",
       "    </tr>\n",
       "    <tr>\n",
       "      <th>32</th>\n",
       "      <td>{'countvectorizer__max_df': 1, 'countvectorize...</td>\n",
       "      <td>0.748667</td>\n",
       "    </tr>\n",
       "    <tr>\n",
       "      <th>34</th>\n",
       "      <td>{'countvectorizer__max_df': 1, 'countvectorize...</td>\n",
       "      <td>0.748667</td>\n",
       "    </tr>\n",
       "    <tr>\n",
       "      <th>40</th>\n",
       "      <td>{'countvectorizer__max_df': 1, 'countvectorize...</td>\n",
       "      <td>0.748800</td>\n",
       "    </tr>\n",
       "    <tr>\n",
       "      <th>42</th>\n",
       "      <td>{'countvectorizer__max_df': 1, 'countvectorize...</td>\n",
       "      <td>0.748800</td>\n",
       "    </tr>\n",
       "    <tr>\n",
       "      <th>41</th>\n",
       "      <td>{'countvectorizer__max_df': 1, 'countvectorize...</td>\n",
       "      <td>0.748933</td>\n",
       "    </tr>\n",
       "    <tr>\n",
       "      <th>24</th>\n",
       "      <td>{'countvectorizer__max_df': 1, 'countvectorize...</td>\n",
       "      <td>0.749200</td>\n",
       "    </tr>\n",
       "    <tr>\n",
       "      <th>25</th>\n",
       "      <td>{'countvectorizer__max_df': 1, 'countvectorize...</td>\n",
       "      <td>0.749200</td>\n",
       "    </tr>\n",
       "    <tr>\n",
       "      <th>37</th>\n",
       "      <td>{'countvectorizer__max_df': 1, 'countvectorize...</td>\n",
       "      <td>0.749867</td>\n",
       "    </tr>\n",
       "    <tr>\n",
       "      <th>36</th>\n",
       "      <td>{'countvectorizer__max_df': 1, 'countvectorize...</td>\n",
       "      <td>0.749867</td>\n",
       "    </tr>\n",
       "    <tr>\n",
       "      <th>10</th>\n",
       "      <td>{'countvectorizer__max_df': 0.9, 'countvectori...</td>\n",
       "      <td>0.761200</td>\n",
       "    </tr>\n",
       "    <tr>\n",
       "      <th>11</th>\n",
       "      <td>{'countvectorizer__max_df': 0.9, 'countvectori...</td>\n",
       "      <td>0.762133</td>\n",
       "    </tr>\n",
       "    <tr>\n",
       "      <th>22</th>\n",
       "      <td>{'countvectorizer__max_df': 0.9, 'countvectori...</td>\n",
       "      <td>0.762933</td>\n",
       "    </tr>\n",
       "    <tr>\n",
       "      <th>8</th>\n",
       "      <td>{'countvectorizer__max_df': 0.9, 'countvectori...</td>\n",
       "      <td>0.762933</td>\n",
       "    </tr>\n",
       "    <tr>\n",
       "      <th>9</th>\n",
       "      <td>{'countvectorizer__max_df': 0.9, 'countvectori...</td>\n",
       "      <td>0.763333</td>\n",
       "    </tr>\n",
       "    <tr>\n",
       "      <th>23</th>\n",
       "      <td>{'countvectorizer__max_df': 0.9, 'countvectori...</td>\n",
       "      <td>0.763600</td>\n",
       "    </tr>\n",
       "    <tr>\n",
       "      <th>20</th>\n",
       "      <td>{'countvectorizer__max_df': 0.9, 'countvectori...</td>\n",
       "      <td>0.764133</td>\n",
       "    </tr>\n",
       "    <tr>\n",
       "      <th>21</th>\n",
       "      <td>{'countvectorizer__max_df': 0.9, 'countvectori...</td>\n",
       "      <td>0.764800</td>\n",
       "    </tr>\n",
       "    <tr>\n",
       "      <th>18</th>\n",
       "      <td>{'countvectorizer__max_df': 0.9, 'countvectori...</td>\n",
       "      <td>0.765067</td>\n",
       "    </tr>\n",
       "    <tr>\n",
       "      <th>19</th>\n",
       "      <td>{'countvectorizer__max_df': 0.9, 'countvectori...</td>\n",
       "      <td>0.765333</td>\n",
       "    </tr>\n",
       "    <tr>\n",
       "      <th>6</th>\n",
       "      <td>{'countvectorizer__max_df': 0.9, 'countvectori...</td>\n",
       "      <td>0.766800</td>\n",
       "    </tr>\n",
       "    <tr>\n",
       "      <th>7</th>\n",
       "      <td>{'countvectorizer__max_df': 0.9, 'countvectori...</td>\n",
       "      <td>0.767333</td>\n",
       "    </tr>\n",
       "    <tr>\n",
       "      <th>16</th>\n",
       "      <td>{'countvectorizer__max_df': 0.9, 'countvectori...</td>\n",
       "      <td>0.768133</td>\n",
       "    </tr>\n",
       "    <tr>\n",
       "      <th>17</th>\n",
       "      <td>{'countvectorizer__max_df': 0.9, 'countvectori...</td>\n",
       "      <td>0.768400</td>\n",
       "    </tr>\n",
       "    <tr>\n",
       "      <th>12</th>\n",
       "      <td>{'countvectorizer__max_df': 0.9, 'countvectori...</td>\n",
       "      <td>0.771333</td>\n",
       "    </tr>\n",
       "    <tr>\n",
       "      <th>13</th>\n",
       "      <td>{'countvectorizer__max_df': 0.9, 'countvectori...</td>\n",
       "      <td>0.771333</td>\n",
       "    </tr>\n",
       "    <tr>\n",
       "      <th>1</th>\n",
       "      <td>{'countvectorizer__max_df': 0.9, 'countvectori...</td>\n",
       "      <td>0.771867</td>\n",
       "    </tr>\n",
       "    <tr>\n",
       "      <th>0</th>\n",
       "      <td>{'countvectorizer__max_df': 0.9, 'countvectori...</td>\n",
       "      <td>0.771867</td>\n",
       "    </tr>\n",
       "    <tr>\n",
       "      <th>4</th>\n",
       "      <td>{'countvectorizer__max_df': 0.9, 'countvectori...</td>\n",
       "      <td>0.772400</td>\n",
       "    </tr>\n",
       "    <tr>\n",
       "      <th>5</th>\n",
       "      <td>{'countvectorizer__max_df': 0.9, 'countvectori...</td>\n",
       "      <td>0.772533</td>\n",
       "    </tr>\n",
       "    <tr>\n",
       "      <th>15</th>\n",
       "      <td>{'countvectorizer__max_df': 0.9, 'countvectori...</td>\n",
       "      <td>0.794800</td>\n",
       "    </tr>\n",
       "    <tr>\n",
       "      <th>14</th>\n",
       "      <td>{'countvectorizer__max_df': 0.9, 'countvectori...</td>\n",
       "      <td>0.794933</td>\n",
       "    </tr>\n",
       "    <tr>\n",
       "      <th>3</th>\n",
       "      <td>{'countvectorizer__max_df': 0.9, 'countvectori...</td>\n",
       "      <td>0.795333</td>\n",
       "    </tr>\n",
       "    <tr>\n",
       "      <th>2</th>\n",
       "      <td>{'countvectorizer__max_df': 0.9, 'countvectori...</td>\n",
       "      <td>0.795333</td>\n",
       "    </tr>\n",
       "  </tbody>\n",
       "</table>\n",
       "</div>"
      ],
      "text/plain": [
       "                                               params  mean_test_score\n",
       "29  {'countvectorizer__max_df': 1, 'countvectorize...         0.748400\n",
       "28  {'countvectorizer__max_df': 1, 'countvectorize...         0.748400\n",
       "31  {'countvectorizer__max_df': 1, 'countvectorize...         0.748533\n",
       "33  {'countvectorizer__max_df': 1, 'countvectorize...         0.748533\n",
       "35  {'countvectorizer__max_df': 1, 'countvectorize...         0.748533\n",
       "47  {'countvectorizer__max_df': 1, 'countvectorize...         0.748533\n",
       "45  {'countvectorizer__max_df': 1, 'countvectorize...         0.748533\n",
       "27  {'countvectorizer__max_df': 1, 'countvectorize...         0.748667\n",
       "43  {'countvectorizer__max_df': 1, 'countvectorize...         0.748667\n",
       "39  {'countvectorizer__max_df': 1, 'countvectorize...         0.748667\n",
       "26  {'countvectorizer__max_df': 1, 'countvectorize...         0.748667\n",
       "46  {'countvectorizer__max_df': 1, 'countvectorize...         0.748667\n",
       "30  {'countvectorizer__max_df': 1, 'countvectorize...         0.748667\n",
       "38  {'countvectorizer__max_df': 1, 'countvectorize...         0.748667\n",
       "44  {'countvectorizer__max_df': 1, 'countvectorize...         0.748667\n",
       "32  {'countvectorizer__max_df': 1, 'countvectorize...         0.748667\n",
       "34  {'countvectorizer__max_df': 1, 'countvectorize...         0.748667\n",
       "40  {'countvectorizer__max_df': 1, 'countvectorize...         0.748800\n",
       "42  {'countvectorizer__max_df': 1, 'countvectorize...         0.748800\n",
       "41  {'countvectorizer__max_df': 1, 'countvectorize...         0.748933\n",
       "24  {'countvectorizer__max_df': 1, 'countvectorize...         0.749200\n",
       "25  {'countvectorizer__max_df': 1, 'countvectorize...         0.749200\n",
       "37  {'countvectorizer__max_df': 1, 'countvectorize...         0.749867\n",
       "36  {'countvectorizer__max_df': 1, 'countvectorize...         0.749867\n",
       "10  {'countvectorizer__max_df': 0.9, 'countvectori...         0.761200\n",
       "11  {'countvectorizer__max_df': 0.9, 'countvectori...         0.762133\n",
       "22  {'countvectorizer__max_df': 0.9, 'countvectori...         0.762933\n",
       "8   {'countvectorizer__max_df': 0.9, 'countvectori...         0.762933\n",
       "9   {'countvectorizer__max_df': 0.9, 'countvectori...         0.763333\n",
       "23  {'countvectorizer__max_df': 0.9, 'countvectori...         0.763600\n",
       "20  {'countvectorizer__max_df': 0.9, 'countvectori...         0.764133\n",
       "21  {'countvectorizer__max_df': 0.9, 'countvectori...         0.764800\n",
       "18  {'countvectorizer__max_df': 0.9, 'countvectori...         0.765067\n",
       "19  {'countvectorizer__max_df': 0.9, 'countvectori...         0.765333\n",
       "6   {'countvectorizer__max_df': 0.9, 'countvectori...         0.766800\n",
       "7   {'countvectorizer__max_df': 0.9, 'countvectori...         0.767333\n",
       "16  {'countvectorizer__max_df': 0.9, 'countvectori...         0.768133\n",
       "17  {'countvectorizer__max_df': 0.9, 'countvectori...         0.768400\n",
       "12  {'countvectorizer__max_df': 0.9, 'countvectori...         0.771333\n",
       "13  {'countvectorizer__max_df': 0.9, 'countvectori...         0.771333\n",
       "1   {'countvectorizer__max_df': 0.9, 'countvectori...         0.771867\n",
       "0   {'countvectorizer__max_df': 0.9, 'countvectori...         0.771867\n",
       "4   {'countvectorizer__max_df': 0.9, 'countvectori...         0.772400\n",
       "5   {'countvectorizer__max_df': 0.9, 'countvectori...         0.772533\n",
       "15  {'countvectorizer__max_df': 0.9, 'countvectori...         0.794800\n",
       "14  {'countvectorizer__max_df': 0.9, 'countvectori...         0.794933\n",
       "3   {'countvectorizer__max_df': 0.9, 'countvectori...         0.795333\n",
       "2   {'countvectorizer__max_df': 0.9, 'countvectori...         0.795333"
      ]
     },
     "execution_count": 54,
     "metadata": {},
     "output_type": "execute_result"
    }
   ],
   "source": [
    "gs4.cv_results_\n",
    "\n",
    "pd.DataFrame(gs4.cv_results_).loc[:, ['params', 'mean_test_score']].sort_values(by='mean_test_score')"
   ]
  },
  {
   "cell_type": "code",
   "execution_count": 55,
   "metadata": {},
   "outputs": [
    {
     "data": {
      "text/plain": [
       "0.8132"
      ]
     },
     "execution_count": 55,
     "metadata": {},
     "output_type": "execute_result"
    }
   ],
   "source": [
    "gs4.score(X_test, y_test)"
   ]
  },
  {
   "cell_type": "code",
   "execution_count": 63,
   "metadata": {},
   "outputs": [
    {
     "data": {
      "text/plain": [
       "array([2, 1, 1, ..., 1, 2, 1])"
      ]
     },
     "execution_count": 63,
     "metadata": {},
     "output_type": "execute_result"
    }
   ],
   "source": [
    "y_preds4 = gs4.predict(X_test)\n",
    "y_preds4"
   ]
  },
  {
   "cell_type": "code",
   "execution_count": 64,
   "metadata": {},
   "outputs": [
    {
     "data": {
      "text/plain": [
       "0.6631665922816076"
      ]
     },
     "execution_count": 64,
     "metadata": {},
     "output_type": "execute_result"
    }
   ],
   "source": [
    "balanced_accuracy_score(y_test, y_preds4)"
   ]
  },
  {
   "cell_type": "code",
   "execution_count": 65,
   "metadata": {},
   "outputs": [
    {
     "name": "stdout",
     "output_type": "stream",
     "text": [
      "              precision    recall  f1-score   support\n",
      "\n",
      "           0       0.48      0.23      0.31       195\n",
      "           1       0.93      0.85      0.89      1871\n",
      "           2       0.57      0.91      0.70       434\n",
      "\n",
      "    accuracy                           0.81      2500\n",
      "   macro avg       0.66      0.66      0.63      2500\n",
      "weighted avg       0.83      0.81      0.81      2500\n",
      "\n"
     ]
    }
   ],
   "source": [
    "print(metrics.classification_report(y_test, y_preds4))"
   ]
  },
  {
   "cell_type": "code",
   "execution_count": 56,
   "metadata": {},
   "outputs": [
    {
     "data": {
      "image/png": "[encoded data removed]",
      "text/plain": [
       "<Figure size 432x288 with 2 Axes>"
      ]
     },
     "metadata": {
      "needs_background": "light"
     },
     "output_type": "display_data"
    }
   ],
   "source": [
    "# hate_speech = 0, offensive language = 1, neither = 2\n",
    "ConfusionMatrixDisplay.from_estimator(gs4, X_test, y_test, cmap='Reds');"
   ]
  },
  {
   "cell_type": "code",
   "execution_count": 57,
   "metadata": {},
   "outputs": [
    {
     "data": {
      "image/png": "[encoded data removed]",
      "text/plain": [
       "<Figure size 432x288 with 2 Axes>"
      ]
     },
     "metadata": {
      "needs_background": "light"
     },
     "output_type": "display_data"
    }
   ],
   "source": [
    "# hate_speech = 0, offensive language = 1, neither = 2\n",
    "ConfusionMatrixDisplay.from_estimator(gs4, X_test, y_test, cmap='Reds', normalize='true');"
   ]
  },
  {
   "cell_type": "markdown",
   "metadata": {},
   "source": [
    "# Tfidf KNN, 0.8132"
   ]
  },
  {
   "cell_type": "code",
   "execution_count": 58,
   "metadata": {},
   "outputs": [
    {
     "data": {
      "text/plain": [
       "GridSearchCV(estimator=Pipeline(steps=[('countvectorizer',\n",
       "                                        CountVectorizer(stop_words='english')),\n",
       "                                       ('kneighborsclassifier',\n",
       "                                        KNeighborsClassifier())]),\n",
       "             n_jobs=-1,\n",
       "             param_grid={'countvectorizer__max_df': [0.9, 1],\n",
       "                         'countvectorizer__min_df': [0],\n",
       "                         'countvectorizer__ngram_range': [(1, 2), (1, 3)],\n",
       "                         'kneighborsclassifier__n_neighbors': [1, 3, 5, 7, 9,\n",
       "                                                               11],\n",
       "                         'kneighborsclassifier__weights': ['uniform',\n",
       "                                                           'distance']})"
      ]
     },
     "execution_count": 58,
     "metadata": {},
     "output_type": "execute_result"
    }
   ],
   "source": [
    "tfidf_vect = TfidfVectorizer(\n",
    "    stop_words='english',\n",
    "    max_features=1_000,\n",
    "    ngram_range=(1,2)\n",
    ")\n",
    "\n",
    "pipe5 = make_pipeline(\n",
    "tfidf_vect,\n",
    "KNeighborsClassifier()\n",
    "\n",
    ")\n",
    "\n",
    "params5 ={\n",
    "\"tfidfvectorizer__stop_words\": ['english'],\n",
    "\"tfidfvectorizer__max_features\": [10_000],\n",
    "\"tfidfvectorizer__ngram_range\": [(1,2),(1,3)],\n",
    "\"kneighborsclassifier__n_neighbors\": [1, 3, 5, 7, 9, 11],\n",
    "\"kneighborsclassifier__weights\": ['uniform', 'distance'],\n",
    "\n",
    "}\n",
    "\n",
    "gs5 = GridSearchCV(pipe4, params4, n_jobs=-1)\n",
    "\n",
    "gs5.fit(X_train, y_train)"
   ]
  },
  {
   "cell_type": "code",
   "execution_count": 59,
   "metadata": {},
   "outputs": [
    {
     "data": {
      "text/html": [
       "<div>\n",
       "<style scoped>\n",
       "    .dataframe tbody tr th:only-of-type {\n",
       "        vertical-align: middle;\n",
       "    }\n",
       "\n",
       "    .dataframe tbody tr th {\n",
       "        vertical-align: top;\n",
       "    }\n",
       "\n",
       "    .dataframe thead th {\n",
       "        text-align: right;\n",
       "    }\n",
       "</style>\n",
       "<table border=\"1\" class=\"dataframe\">\n",
       "  <thead>\n",
       "    <tr style=\"text-align: right;\">\n",
       "      <th></th>\n",
       "      <th>params</th>\n",
       "      <th>mean_test_score</th>\n",
       "    </tr>\n",
       "  </thead>\n",
       "  <tbody>\n",
       "    <tr>\n",
       "      <th>29</th>\n",
       "      <td>{'countvectorizer__max_df': 1, 'countvectorize...</td>\n",
       "      <td>0.748400</td>\n",
       "    </tr>\n",
       "    <tr>\n",
       "      <th>28</th>\n",
       "      <td>{'countvectorizer__max_df': 1, 'countvectorize...</td>\n",
       "      <td>0.748400</td>\n",
       "    </tr>\n",
       "    <tr>\n",
       "      <th>31</th>\n",
       "      <td>{'countvectorizer__max_df': 1, 'countvectorize...</td>\n",
       "      <td>0.748533</td>\n",
       "    </tr>\n",
       "    <tr>\n",
       "      <th>33</th>\n",
       "      <td>{'countvectorizer__max_df': 1, 'countvectorize...</td>\n",
       "      <td>0.748533</td>\n",
       "    </tr>\n",
       "    <tr>\n",
       "      <th>35</th>\n",
       "      <td>{'countvectorizer__max_df': 1, 'countvectorize...</td>\n",
       "      <td>0.748533</td>\n",
       "    </tr>\n",
       "    <tr>\n",
       "      <th>47</th>\n",
       "      <td>{'countvectorizer__max_df': 1, 'countvectorize...</td>\n",
       "      <td>0.748533</td>\n",
       "    </tr>\n",
       "    <tr>\n",
       "      <th>45</th>\n",
       "      <td>{'countvectorizer__max_df': 1, 'countvectorize...</td>\n",
       "      <td>0.748533</td>\n",
       "    </tr>\n",
       "    <tr>\n",
       "      <th>27</th>\n",
       "      <td>{'countvectorizer__max_df': 1, 'countvectorize...</td>\n",
       "      <td>0.748667</td>\n",
       "    </tr>\n",
       "    <tr>\n",
       "      <th>43</th>\n",
       "      <td>{'countvectorizer__max_df': 1, 'countvectorize...</td>\n",
       "      <td>0.748667</td>\n",
       "    </tr>\n",
       "    <tr>\n",
       "      <th>39</th>\n",
       "      <td>{'countvectorizer__max_df': 1, 'countvectorize...</td>\n",
       "      <td>0.748667</td>\n",
       "    </tr>\n",
       "    <tr>\n",
       "      <th>26</th>\n",
       "      <td>{'countvectorizer__max_df': 1, 'countvectorize...</td>\n",
       "      <td>0.748667</td>\n",
       "    </tr>\n",
       "    <tr>\n",
       "      <th>46</th>\n",
       "      <td>{'countvectorizer__max_df': 1, 'countvectorize...</td>\n",
       "      <td>0.748667</td>\n",
       "    </tr>\n",
       "    <tr>\n",
       "      <th>30</th>\n",
       "      <td>{'countvectorizer__max_df': 1, 'countvectorize...</td>\n",
       "      <td>0.748667</td>\n",
       "    </tr>\n",
       "    <tr>\n",
       "      <th>38</th>\n",
       "      <td>{'countvectorizer__max_df': 1, 'countvectorize...</td>\n",
       "      <td>0.748667</td>\n",
       "    </tr>\n",
       "    <tr>\n",
       "      <th>44</th>\n",
       "      <td>{'countvectorizer__max_df': 1, 'countvectorize...</td>\n",
       "      <td>0.748667</td>\n",
       "    </tr>\n",
       "    <tr>\n",
       "      <th>32</th>\n",
       "      <td>{'countvectorizer__max_df': 1, 'countvectorize...</td>\n",
       "      <td>0.748667</td>\n",
       "    </tr>\n",
       "    <tr>\n",
       "      <th>34</th>\n",
       "      <td>{'countvectorizer__max_df': 1, 'countvectorize...</td>\n",
       "      <td>0.748667</td>\n",
       "    </tr>\n",
       "    <tr>\n",
       "      <th>40</th>\n",
       "      <td>{'countvectorizer__max_df': 1, 'countvectorize...</td>\n",
       "      <td>0.748800</td>\n",
       "    </tr>\n",
       "    <tr>\n",
       "      <th>42</th>\n",
       "      <td>{'countvectorizer__max_df': 1, 'countvectorize...</td>\n",
       "      <td>0.748800</td>\n",
       "    </tr>\n",
       "    <tr>\n",
       "      <th>41</th>\n",
       "      <td>{'countvectorizer__max_df': 1, 'countvectorize...</td>\n",
       "      <td>0.748933</td>\n",
       "    </tr>\n",
       "    <tr>\n",
       "      <th>24</th>\n",
       "      <td>{'countvectorizer__max_df': 1, 'countvectorize...</td>\n",
       "      <td>0.749200</td>\n",
       "    </tr>\n",
       "    <tr>\n",
       "      <th>25</th>\n",
       "      <td>{'countvectorizer__max_df': 1, 'countvectorize...</td>\n",
       "      <td>0.749200</td>\n",
       "    </tr>\n",
       "    <tr>\n",
       "      <th>37</th>\n",
       "      <td>{'countvectorizer__max_df': 1, 'countvectorize...</td>\n",
       "      <td>0.749867</td>\n",
       "    </tr>\n",
       "    <tr>\n",
       "      <th>36</th>\n",
       "      <td>{'countvectorizer__max_df': 1, 'countvectorize...</td>\n",
       "      <td>0.749867</td>\n",
       "    </tr>\n",
       "    <tr>\n",
       "      <th>10</th>\n",
       "      <td>{'countvectorizer__max_df': 0.9, 'countvectori...</td>\n",
       "      <td>0.761200</td>\n",
       "    </tr>\n",
       "    <tr>\n",
       "      <th>11</th>\n",
       "      <td>{'countvectorizer__max_df': 0.9, 'countvectori...</td>\n",
       "      <td>0.762133</td>\n",
       "    </tr>\n",
       "    <tr>\n",
       "      <th>22</th>\n",
       "      <td>{'countvectorizer__max_df': 0.9, 'countvectori...</td>\n",
       "      <td>0.762933</td>\n",
       "    </tr>\n",
       "    <tr>\n",
       "      <th>8</th>\n",
       "      <td>{'countvectorizer__max_df': 0.9, 'countvectori...</td>\n",
       "      <td>0.762933</td>\n",
       "    </tr>\n",
       "    <tr>\n",
       "      <th>9</th>\n",
       "      <td>{'countvectorizer__max_df': 0.9, 'countvectori...</td>\n",
       "      <td>0.763333</td>\n",
       "    </tr>\n",
       "    <tr>\n",
       "      <th>23</th>\n",
       "      <td>{'countvectorizer__max_df': 0.9, 'countvectori...</td>\n",
       "      <td>0.763600</td>\n",
       "    </tr>\n",
       "    <tr>\n",
       "      <th>20</th>\n",
       "      <td>{'countvectorizer__max_df': 0.9, 'countvectori...</td>\n",
       "      <td>0.764133</td>\n",
       "    </tr>\n",
       "    <tr>\n",
       "      <th>21</th>\n",
       "      <td>{'countvectorizer__max_df': 0.9, 'countvectori...</td>\n",
       "      <td>0.764800</td>\n",
       "    </tr>\n",
       "    <tr>\n",
       "      <th>18</th>\n",
       "      <td>{'countvectorizer__max_df': 0.9, 'countvectori...</td>\n",
       "      <td>0.765067</td>\n",
       "    </tr>\n",
       "    <tr>\n",
       "      <th>19</th>\n",
       "      <td>{'countvectorizer__max_df': 0.9, 'countvectori...</td>\n",
       "      <td>0.765333</td>\n",
       "    </tr>\n",
       "    <tr>\n",
       "      <th>6</th>\n",
       "      <td>{'countvectorizer__max_df': 0.9, 'countvectori...</td>\n",
       "      <td>0.766800</td>\n",
       "    </tr>\n",
       "    <tr>\n",
       "      <th>7</th>\n",
       "      <td>{'countvectorizer__max_df': 0.9, 'countvectori...</td>\n",
       "      <td>0.767333</td>\n",
       "    </tr>\n",
       "    <tr>\n",
       "      <th>16</th>\n",
       "      <td>{'countvectorizer__max_df': 0.9, 'countvectori...</td>\n",
       "      <td>0.768133</td>\n",
       "    </tr>\n",
       "    <tr>\n",
       "      <th>17</th>\n",
       "      <td>{'countvectorizer__max_df': 0.9, 'countvectori...</td>\n",
       "      <td>0.768400</td>\n",
       "    </tr>\n",
       "    <tr>\n",
       "      <th>12</th>\n",
       "      <td>{'countvectorizer__max_df': 0.9, 'countvectori...</td>\n",
       "      <td>0.771333</td>\n",
       "    </tr>\n",
       "    <tr>\n",
       "      <th>13</th>\n",
       "      <td>{'countvectorizer__max_df': 0.9, 'countvectori...</td>\n",
       "      <td>0.771333</td>\n",
       "    </tr>\n",
       "    <tr>\n",
       "      <th>1</th>\n",
       "      <td>{'countvectorizer__max_df': 0.9, 'countvectori...</td>\n",
       "      <td>0.771867</td>\n",
       "    </tr>\n",
       "    <tr>\n",
       "      <th>0</th>\n",
       "      <td>{'countvectorizer__max_df': 0.9, 'countvectori...</td>\n",
       "      <td>0.771867</td>\n",
       "    </tr>\n",
       "    <tr>\n",
       "      <th>4</th>\n",
       "      <td>{'countvectorizer__max_df': 0.9, 'countvectori...</td>\n",
       "      <td>0.772400</td>\n",
       "    </tr>\n",
       "    <tr>\n",
       "      <th>5</th>\n",
       "      <td>{'countvectorizer__max_df': 0.9, 'countvectori...</td>\n",
       "      <td>0.772533</td>\n",
       "    </tr>\n",
       "    <tr>\n",
       "      <th>15</th>\n",
       "      <td>{'countvectorizer__max_df': 0.9, 'countvectori...</td>\n",
       "      <td>0.794800</td>\n",
       "    </tr>\n",
       "    <tr>\n",
       "      <th>14</th>\n",
       "      <td>{'countvectorizer__max_df': 0.9, 'countvectori...</td>\n",
       "      <td>0.794933</td>\n",
       "    </tr>\n",
       "    <tr>\n",
       "      <th>3</th>\n",
       "      <td>{'countvectorizer__max_df': 0.9, 'countvectori...</td>\n",
       "      <td>0.795333</td>\n",
       "    </tr>\n",
       "    <tr>\n",
       "      <th>2</th>\n",
       "      <td>{'countvectorizer__max_df': 0.9, 'countvectori...</td>\n",
       "      <td>0.795333</td>\n",
       "    </tr>\n",
       "  </tbody>\n",
       "</table>\n",
       "</div>"
      ],
      "text/plain": [
       "                                               params  mean_test_score\n",
       "29  {'countvectorizer__max_df': 1, 'countvectorize...         0.748400\n",
       "28  {'countvectorizer__max_df': 1, 'countvectorize...         0.748400\n",
       "31  {'countvectorizer__max_df': 1, 'countvectorize...         0.748533\n",
       "33  {'countvectorizer__max_df': 1, 'countvectorize...         0.748533\n",
       "35  {'countvectorizer__max_df': 1, 'countvectorize...         0.748533\n",
       "47  {'countvectorizer__max_df': 1, 'countvectorize...         0.748533\n",
       "45  {'countvectorizer__max_df': 1, 'countvectorize...         0.748533\n",
       "27  {'countvectorizer__max_df': 1, 'countvectorize...         0.748667\n",
       "43  {'countvectorizer__max_df': 1, 'countvectorize...         0.748667\n",
       "39  {'countvectorizer__max_df': 1, 'countvectorize...         0.748667\n",
       "26  {'countvectorizer__max_df': 1, 'countvectorize...         0.748667\n",
       "46  {'countvectorizer__max_df': 1, 'countvectorize...         0.748667\n",
       "30  {'countvectorizer__max_df': 1, 'countvectorize...         0.748667\n",
       "38  {'countvectorizer__max_df': 1, 'countvectorize...         0.748667\n",
       "44  {'countvectorizer__max_df': 1, 'countvectorize...         0.748667\n",
       "32  {'countvectorizer__max_df': 1, 'countvectorize...         0.748667\n",
       "34  {'countvectorizer__max_df': 1, 'countvectorize...         0.748667\n",
       "40  {'countvectorizer__max_df': 1, 'countvectorize...         0.748800\n",
       "42  {'countvectorizer__max_df': 1, 'countvectorize...         0.748800\n",
       "41  {'countvectorizer__max_df': 1, 'countvectorize...         0.748933\n",
       "24  {'countvectorizer__max_df': 1, 'countvectorize...         0.749200\n",
       "25  {'countvectorizer__max_df': 1, 'countvectorize...         0.749200\n",
       "37  {'countvectorizer__max_df': 1, 'countvectorize...         0.749867\n",
       "36  {'countvectorizer__max_df': 1, 'countvectorize...         0.749867\n",
       "10  {'countvectorizer__max_df': 0.9, 'countvectori...         0.761200\n",
       "11  {'countvectorizer__max_df': 0.9, 'countvectori...         0.762133\n",
       "22  {'countvectorizer__max_df': 0.9, 'countvectori...         0.762933\n",
       "8   {'countvectorizer__max_df': 0.9, 'countvectori...         0.762933\n",
       "9   {'countvectorizer__max_df': 0.9, 'countvectori...         0.763333\n",
       "23  {'countvectorizer__max_df': 0.9, 'countvectori...         0.763600\n",
       "20  {'countvectorizer__max_df': 0.9, 'countvectori...         0.764133\n",
       "21  {'countvectorizer__max_df': 0.9, 'countvectori...         0.764800\n",
       "18  {'countvectorizer__max_df': 0.9, 'countvectori...         0.765067\n",
       "19  {'countvectorizer__max_df': 0.9, 'countvectori...         0.765333\n",
       "6   {'countvectorizer__max_df': 0.9, 'countvectori...         0.766800\n",
       "7   {'countvectorizer__max_df': 0.9, 'countvectori...         0.767333\n",
       "16  {'countvectorizer__max_df': 0.9, 'countvectori...         0.768133\n",
       "17  {'countvectorizer__max_df': 0.9, 'countvectori...         0.768400\n",
       "12  {'countvectorizer__max_df': 0.9, 'countvectori...         0.771333\n",
       "13  {'countvectorizer__max_df': 0.9, 'countvectori...         0.771333\n",
       "1   {'countvectorizer__max_df': 0.9, 'countvectori...         0.771867\n",
       "0   {'countvectorizer__max_df': 0.9, 'countvectori...         0.771867\n",
       "4   {'countvectorizer__max_df': 0.9, 'countvectori...         0.772400\n",
       "5   {'countvectorizer__max_df': 0.9, 'countvectori...         0.772533\n",
       "15  {'countvectorizer__max_df': 0.9, 'countvectori...         0.794800\n",
       "14  {'countvectorizer__max_df': 0.9, 'countvectori...         0.794933\n",
       "3   {'countvectorizer__max_df': 0.9, 'countvectori...         0.795333\n",
       "2   {'countvectorizer__max_df': 0.9, 'countvectori...         0.795333"
      ]
     },
     "execution_count": 59,
     "metadata": {},
     "output_type": "execute_result"
    }
   ],
   "source": [
    "gs5.cv_results_\n",
    "\n",
    "pd.DataFrame(gs5.cv_results_).loc[:, ['params', 'mean_test_score']].sort_values(by='mean_test_score')"
   ]
  },
  {
   "cell_type": "code",
   "execution_count": 60,
   "metadata": {},
   "outputs": [
    {
     "data": {
      "text/plain": [
       "0.8132"
      ]
     },
     "execution_count": 60,
     "metadata": {},
     "output_type": "execute_result"
    }
   ],
   "source": [
    "gs5.score(X_test, y_test)"
   ]
  },
  {
   "cell_type": "code",
   "execution_count": 66,
   "metadata": {},
   "outputs": [
    {
     "data": {
      "text/plain": [
       "array([2, 1, 1, ..., 1, 2, 1])"
      ]
     },
     "execution_count": 66,
     "metadata": {},
     "output_type": "execute_result"
    }
   ],
   "source": [
    "y_preds5 = gs5.predict(X_test)\n",
    "y_preds5"
   ]
  },
  {
   "cell_type": "code",
   "execution_count": 67,
   "metadata": {},
   "outputs": [
    {
     "data": {
      "text/plain": [
       "0.6631665922816076"
      ]
     },
     "execution_count": 67,
     "metadata": {},
     "output_type": "execute_result"
    }
   ],
   "source": [
    "balanced_accuracy_score(y_test, y_preds5)"
   ]
  },
  {
   "cell_type": "code",
   "execution_count": 68,
   "metadata": {},
   "outputs": [
    {
     "name": "stdout",
     "output_type": "stream",
     "text": [
      "              precision    recall  f1-score   support\n",
      "\n",
      "           0       0.48      0.23      0.31       195\n",
      "           1       0.93      0.85      0.89      1871\n",
      "           2       0.57      0.91      0.70       434\n",
      "\n",
      "    accuracy                           0.81      2500\n",
      "   macro avg       0.66      0.66      0.63      2500\n",
      "weighted avg       0.83      0.81      0.81      2500\n",
      "\n"
     ]
    }
   ],
   "source": [
    "print(metrics.classification_report(y_test, y_preds5))"
   ]
  }
 ],
 "metadata": {
  "interpreter": {
   "hash": "40d3a090f54c6569ab1632332b64b2c03c39dcf918b08424e98f38b5ae0af88f"
  },
  "kernelspec": {
   "display_name": "Python 3.9.7 64-bit ('base': conda)",
   "language": "python",
   "name": "python3"
  },
  "language_info": {
   "codemirror_mode": {
    "name": "ipython",
    "version": 3
   },
   "file_extension": ".py",
   "mimetype": "text/x-python",
   "name": "python",
   "nbconvert_exporter": "python",
   "pygments_lexer": "ipython3",
   "version": "3.9.7"
  },
  "orig_nbformat": 4
 },
 "nbformat": 4,
 "nbformat_minor": 2
}
